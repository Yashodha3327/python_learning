{
  "nbformat": 4,
  "nbformat_minor": 0,
  "metadata": {
    "colab": {
      "provenance": [],
      "authorship_tag": "ABX9TyOSNSll3mq3puHVbP3l94kB",
      "include_colab_link": true
    },
    "kernelspec": {
      "name": "python3",
      "display_name": "Python 3"
    },
    "language_info": {
      "name": "python"
    }
  },
  "cells": [
    {
      "cell_type": "markdown",
      "metadata": {
        "id": "view-in-github",
        "colab_type": "text"
      },
      "source": [
        "<a href=\"https://colab.research.google.com/github/Yashodha3327/python_learning/blob/main/Pyspark_Assignment_py.ipynb\" target=\"_parent\"><img src=\"https://colab.research.google.com/assets/colab-badge.svg\" alt=\"Open In Colab\"/></a>"
      ]
    },
    {
      "cell_type": "code",
      "execution_count": 1,
      "metadata": {
        "colab": {
          "base_uri": "https://localhost:8080/",
          "height": 384
        },
        "id": "raotHQo8QQ9x",
        "outputId": "bd903922-465c-43ac-c9bf-78549102b8b9"
      },
      "outputs": [
        {
          "output_type": "error",
          "ename": "ModuleNotFoundError",
          "evalue": "No module named 'pyspark'",
          "traceback": [
            "\u001b[0;31m---------------------------------------------------------------------------\u001b[0m",
            "\u001b[0;31mModuleNotFoundError\u001b[0m                       Traceback (most recent call last)",
            "\u001b[0;32m<ipython-input-1-28166ffee35a>\u001b[0m in \u001b[0;36m<cell line: 1>\u001b[0;34m()\u001b[0m\n\u001b[0;32m----> 1\u001b[0;31m \u001b[0;32mfrom\u001b[0m \u001b[0mpyspark\u001b[0m\u001b[0;34m.\u001b[0m\u001b[0msql\u001b[0m \u001b[0;32mimport\u001b[0m \u001b[0mSparkSession\u001b[0m\u001b[0;34m\u001b[0m\u001b[0;34m\u001b[0m\u001b[0m\n\u001b[0m\u001b[1;32m      2\u001b[0m \u001b[0;32mfrom\u001b[0m \u001b[0mpyspark\u001b[0m\u001b[0;34m.\u001b[0m\u001b[0msql\u001b[0m\u001b[0;34m.\u001b[0m\u001b[0mfunctions\u001b[0m \u001b[0;32mimport\u001b[0m \u001b[0;34m*\u001b[0m\u001b[0;34m\u001b[0m\u001b[0;34m\u001b[0m\u001b[0m\n\u001b[1;32m      3\u001b[0m \u001b[0;32mfrom\u001b[0m \u001b[0mpyspark\u001b[0m\u001b[0;34m.\u001b[0m\u001b[0msql\u001b[0m\u001b[0;34m.\u001b[0m\u001b[0mtypes\u001b[0m \u001b[0;32mimport\u001b[0m \u001b[0;34m*\u001b[0m\u001b[0;34m\u001b[0m\u001b[0;34m\u001b[0m\u001b[0m\n\u001b[1;32m      4\u001b[0m \u001b[0mspark\u001b[0m\u001b[0;34m=\u001b[0m\u001b[0mSparkSession\u001b[0m\u001b[0;34m.\u001b[0m\u001b[0mbuilder\u001b[0m\u001b[0;34m.\u001b[0m\u001b[0mmaster\u001b[0m\u001b[0;34m(\u001b[0m\u001b[0;34m\"local\"\u001b[0m\u001b[0;34m)\u001b[0m\u001b[0;34m.\u001b[0m\u001b[0mappName\u001b[0m\u001b[0;34m(\u001b[0m\u001b[0;34m\"Covid_Data_Analysis\"\u001b[0m\u001b[0;34m)\u001b[0m\u001b[0;34m.\u001b[0m\u001b[0mgetOrCreate\u001b[0m\u001b[0;34m(\u001b[0m\u001b[0;34m)\u001b[0m\u001b[0;34m\u001b[0m\u001b[0;34m\u001b[0m\u001b[0m\n\u001b[1;32m      5\u001b[0m \u001b[0mdf\u001b[0m\u001b[0;34m=\u001b[0m\u001b[0mspark\u001b[0m\u001b[0;34m.\u001b[0m\u001b[0mread\u001b[0m\u001b[0;34m.\u001b[0m\u001b[0mcsv\u001b[0m\u001b[0;34m(\u001b[0m\u001b[0;34m\"country_wise_latest.csv\"\u001b[0m\u001b[0;34m,\u001b[0m\u001b[0mheader\u001b[0m\u001b[0;34m=\u001b[0m\u001b[0;32mTrue\u001b[0m\u001b[0;34m)\u001b[0m\u001b[0;34m\u001b[0m\u001b[0;34m\u001b[0m\u001b[0m\n",
            "\u001b[0;31mModuleNotFoundError\u001b[0m: No module named 'pyspark'",
            "",
            "\u001b[0;31m---------------------------------------------------------------------------\u001b[0;32m\nNOTE: If your import is failing due to a missing package, you can\nmanually install dependencies using either !pip or !apt.\n\nTo view examples of installing some common dependencies, click the\n\"Open Examples\" button below.\n\u001b[0;31m---------------------------------------------------------------------------\u001b[0m\n"
          ],
          "errorDetails": {
            "actions": [
              {
                "action": "open_url",
                "actionText": "Open Examples",
                "url": "/notebooks/snippets/importing_libraries.ipynb"
              }
            ]
          }
        }
      ],
      "source": [
        "from pyspark.sql import SparkSession\n",
        "from pyspark.sql.functions import *\n",
        "from pyspark.sql.types import *\n",
        "spark=SparkSession.builder.master(\"local\").appName(\"Covid_Data_Analysis\").getOrCreate()\n",
        "df=spark.read.csv(\"country_wise_latest.csv\",header=True)\n",
        "print('Before Column Renaming')\n",
        "df.printSchema()\n",
        "df=df.withColumnRenamed('Country/Region','Country')\\\n",
        "        .withColumnRenamed('Deaths / 100','Death_per_100_cases')\\\n",
        "        .withColumnRenamed('New Cases','New_cases')\\\n",
        "        .withColumnRenamed('New deaths','New_deaths')\\\n",
        "        .withColumnRenamed('New recovered','New_recovered')\\\n",
        "        .withColumnRenamed('Deaths / 100 Cases','Death_per_100_cases')\\\n",
        "        .withColumnRenamed('Recovered / 100 Cases','Recovered_per_100_cases')\\\n",
        "        .withColumnRenamed('Deaths / 100 Recovered','deaths_per_100_recovered')\\\n",
        "        .withColumnRenamed('Confirmed last week','Confirmed_last_week')\\\n",
        "        .withColumnRenamed('1 week change','1_week_change')\\\n",
        "        .withColumnRenamed('1 week % increase','1_week_%_increase')\\\n",
        "        .withColumnRenamed('WHO Region','WHO_Region')\\\n",
        "        .withColumn('Confirmed',df.Confirmed.cast(IntegerType()))\\\n",
        "        .withColumn('Deaths',df.Deaths.cast(IntegerType()))\\\n",
        "        .withColumn('Recovered',df.Recovered.cast(IntegerType()))\\\n",
        "        .withColumn('Active',df.Active.cast(IntegerType()))\n",
        "\n",
        "print('After Column Renaming')\n",
        "df.printSchema()\n",
        "df.select([count(when(isnan(c) | isnull(c),c) ).alias(c) for c in df.columns]).show()\n",
        "df_desc=df.groupBy('WHO_Region','Country').agg(sum('Confirmed').alias('total_confirmed_cases')).sort(desc('total_confirmed_cases'))\n",
        "df_desc.show(10)\n",
        "df_asc=df.groupBy('WHO_Region','Country').agg(sum('Confirmed').alias('total_confirmed_cases')).sort(asc('total_confirmed_cases'))\n",
        "df_asc.show(10)\n",
        "\n",
        "\n"
      ]
    }
  ]
}