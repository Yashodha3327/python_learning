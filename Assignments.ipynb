{
  "nbformat": 4,
  "nbformat_minor": 0,
  "metadata": {
    "colab": {
      "provenance": [],
      "authorship_tag": "ABX9TyOOUU7QjkQYjIKYKGkCPUam",
      "include_colab_link": true
    },
    "kernelspec": {
      "name": "python3",
      "display_name": "Python 3"
    },
    "language_info": {
      "name": "python"
    }
  },
  "cells": [
    {
      "cell_type": "markdown",
      "metadata": {
        "id": "view-in-github",
        "colab_type": "text"
      },
      "source": [
        "<a href=\"https://colab.research.google.com/github/Yashodha3327/python_learning/blob/main/Assignments.ipynb\" target=\"_parent\"><img src=\"https://colab.research.google.com/assets/colab-badge.svg\" alt=\"Open In Colab\"/></a>"
      ]
    },
    {
      "cell_type": "code",
      "execution_count": 1,
      "metadata": {
        "colab": {
          "base_uri": "https://localhost:8080/"
        },
        "id": "wJUAfrX5Sf_u",
        "outputId": "4286e5d1-4fe9-40e1-90dd-18b4be2ec229"
      },
      "outputs": [
        {
          "output_type": "stream",
          "name": "stdout",
          "text": [
            "log_message = D:100\n",
            "<class 'str'>\n",
            "100\n"
          ]
        }
      ],
      "source": [
        "Balance = 0\n",
        "transactionType = input(\"log_message = \")\n",
        "print(type(transactionType))\n",
        "trans = transactionType.split(\" \")\n",
        "for e in trans:\n",
        "    trans1  = e.split(\":\")\n",
        "    if trans1[0] == \"D\":\n",
        "        Balance = Balance + int(trans1[1])\n",
        "    elif trans1[0] == \"W\":\n",
        "        Balance = Balance - int(trans1[1])\n",
        "print(Balance)"
      ]
    },
    {
      "cell_type": "code",
      "source": [
        "call = int(input(\"enter the number of calls \"))\n",
        "calltime =0\n",
        "charges =0\n",
        "if(call<=100):\n",
        "    charges =200\n",
        "elif(call>=100 and call<=150):\n",
        "    charges = 200+((call-100)*0.60)\n",
        "elif(call<=200 and call>=151):\n",
        "\n",
        "    calltime = (call-150)\n",
        "    charges = 200+(((call-100)-calltime)*0.60)+calltime*0.50\n",
        "elif(call>200):\n",
        "    calltime = (call-200)\n",
        "    charges=200+(((call-150)-calltime)*0.60)+((call-150)-calltime)*0.50+calltime*.40\n",
        "print(charges)"
      ],
      "metadata": {
        "colab": {
          "base_uri": "https://localhost:8080/"
        },
        "id": "Nq330_LPZ-Er",
        "outputId": "f1590a34-4cb0-4a47-9658-6f3c8ad0943d"
      },
      "execution_count": 2,
      "outputs": [
        {
          "output_type": "stream",
          "name": "stdout",
          "text": [
            "enter the number of calls 140\n",
            "224.0\n"
          ]
        }
      ]
    },
    {
      "cell_type": "code",
      "source": [
        "A = [1,2,3,4,5]\n",
        "total = sum(A)\n",
        "print(\"sum of all numbers in the list:\", total)"
      ],
      "metadata": {
        "colab": {
          "base_uri": "https://localhost:8080/"
        },
        "id": "k67JrFQybN5y",
        "outputId": "24c6ce87-712b-44d8-e3e9-2bcb2c2b69b8"
      },
      "execution_count": 8,
      "outputs": [
        {
          "output_type": "stream",
          "name": "stdout",
          "text": [
            "sum of all numbers in the list: 15\n"
          ]
        }
      ]
    },
    {
      "cell_type": "code",
      "source": [
        "def reverse(s):\n",
        "    str = \"\"\n",
        "    for i in s:\n",
        "        str = i + str\n",
        "    return str\n",
        "\n",
        "s = \"1234abcd\"\n",
        "\n",
        "print(\"The original string is : \", end=\"\")\n",
        "print(s)\n",
        "\n",
        "print(\"The reversed string(using loops) is : \", end=\"\")\n",
        "print(reverse(s))"
      ],
      "metadata": {
        "colab": {
          "base_uri": "https://localhost:8080/"
        },
        "id": "16A5tLvYbwuX",
        "outputId": "d6b569fb-991b-4185-9a14-a48146aa3b23"
      },
      "execution_count": 9,
      "outputs": [
        {
          "output_type": "stream",
          "name": "stdout",
          "text": [
            "The original string is : 1234abcd\n",
            "The reversed string(using loops) is : dcba4321\n"
          ]
        }
      ]
    },
    {
      "cell_type": "code",
      "source": [
        "def string_test(s):\n",
        "    d = {\"UPPER_CASE\": 0, \"LOWER_CASE\": 0}\n",
        "    for c in s:\n",
        "        if c.isupper():\n",
        "            d[\"UPPER_CASE\"] += 1\n",
        "        elif c.islower():\n",
        "            d[\"LOWER_CASE\"] += 1\n",
        "        else:\n",
        "            pass\n",
        "    print(\"Original String: \", s)\n",
        "    print(\"No. of Upper case characters: \", d[\"UPPER_CASE\"])\n",
        "    print(\"No. of Lower case Characters: \", d[\"LOWER_CASE\"])\n",
        "string_test('The quick Brown Fox')"
      ],
      "metadata": {
        "colab": {
          "base_uri": "https://localhost:8080/"
        },
        "id": "jhyg-wnsef--",
        "outputId": "29ec0bd9-2105-48a3-a2ac-0b5869ca3007"
      },
      "execution_count": 26,
      "outputs": [
        {
          "output_type": "stream",
          "name": "stdout",
          "text": [
            "Original String:  The quick Brown Fox\n",
            "No. of Upper case characters:  3\n",
            "No. of Lower case Characters:  13\n"
          ]
        }
      ]
    },
    {
      "cell_type": "code",
      "source": [],
      "metadata": {
        "id": "M_vlhzx9grOC"
      },
      "execution_count": 28,
      "outputs": []
    }
  ]
}